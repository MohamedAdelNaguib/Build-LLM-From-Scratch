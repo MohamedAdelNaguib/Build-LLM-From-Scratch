{
 "cells": [
  {
   "cell_type": "markdown",
   "metadata": {},
   "source": [
    "# 2. LLM Architecture"
   ]
  },
  {
   "cell_type": "code",
   "execution_count": 1,
   "metadata": {},
   "outputs": [
    {
     "name": "stdout",
     "output_type": "stream",
     "text": [
      "torch version: 2.4.1\n",
      "tiktoken version: 0.8.0\n"
     ]
    }
   ],
   "source": [
    "from importlib.metadata import version\n",
    "\n",
    "print(\"torch version:\",version(\"torch\"))\n",
    "print(\"tiktoken version:\",version(\"tiktoken\"))\n"
   ]
  },
  {
   "cell_type": "code",
   "execution_count": 27,
   "metadata": {},
   "outputs": [],
   "source": [
    "class Person:\n",
    "    def __init__(self, first_name, last_name, age):\n",
    "        self.first = first_name\n",
    "        self.last = last_name\n",
    "        self.age = age\n",
    "        self.children = []\n",
    "    \n",
    "    def __str__(self):\n",
    "        return f\"First Name: {self.first}, Last Name: {self.last}, Age: {self.age}\"\n",
    "    \n",
    "    def add_child(self, child):\n",
    "        self.children.append(child)\n",
    "    \n",
    "    def display_family(self, indent = 0):\n",
    "        print(indent* \" \" + self.__str__())\n",
    "        for p in self.children:\n",
    "            p.display_family(indent+4)"
   ]
  },
  {
   "cell_type": "code",
   "execution_count": 28,
   "metadata": {},
   "outputs": [],
   "source": [
    "grandpa = Person(\"Edward\", \"Smith\", 70)\n",
    "\n",
    "# Creating his children (father and mother in the family tree)\n",
    "father = Person(\"John\", \"Smith\", 50)\n",
    "mother = Person(\"Mary\", \"Johnson\", 48)\n",
    "\n",
    "# Adding children to the grandparent\n",
    "grandpa.add_child(father)\n",
    "grandpa.add_child(mother)\n",
    "\n",
    "# Creating grandchildren\n",
    "child1 = Person(\"Michael\", \"Smith\", 25)\n",
    "child2 = Person(\"Emma\", \"Smith\", 22)\n",
    "child3 = Person(\"Oliver\", \"Johnson\", 20)\n",
    "child4 = Person(\"Isabella\", \"Johnson\", 18)\n",
    "\n",
    "# Adding grandchildren to their parents\n",
    "father.add_child(child1)\n",
    "father.add_child(child2)\n",
    "mother.add_child(child3)\n",
    "mother.add_child(child4)"
   ]
  },
  {
   "cell_type": "code",
   "execution_count": 29,
   "metadata": {},
   "outputs": [
    {
     "name": "stdout",
     "output_type": "stream",
     "text": [
      "First Name: Edward, Last Name: Smith, Age: 70\n",
      "    First Name: John, Last Name: Smith, Age: 50\n",
      "        First Name: Michael, Last Name: Smith, Age: 25\n",
      "        First Name: Emma, Last Name: Smith, Age: 22\n",
      "    First Name: Mary, Last Name: Johnson, Age: 48\n",
      "        First Name: Oliver, Last Name: Johnson, Age: 20\n",
      "        First Name: Isabella, Last Name: Johnson, Age: 18\n"
     ]
    }
   ],
   "source": [
    "grandpa.display_family()"
   ]
  },
  {
   "cell_type": "code",
   "execution_count": 34,
   "metadata": {},
   "outputs": [],
   "source": [
    "for i in range(1, 0, -1):\n",
    "    break\n",
    "    print(i)"
   ]
  },
  {
   "cell_type": "code",
   "execution_count": 35,
   "metadata": {},
   "outputs": [
    {
     "name": "stdout",
     "output_type": "stream",
     "text": [
      "0\n"
     ]
    }
   ],
   "source": [
    "i = 0\n",
    "while i >0:\n",
    "    print(\"zeby\")\n",
    "else:\n",
    "    print(i)"
   ]
  },
  {
   "cell_type": "code",
   "execution_count": null,
   "metadata": {},
   "outputs": [],
   "source": []
  }
 ],
 "metadata": {
  "kernelspec": {
   "display_name": "LLMs",
   "language": "python",
   "name": "python3"
  },
  "language_info": {
   "codemirror_mode": {
    "name": "ipython",
    "version": 3
   },
   "file_extension": ".py",
   "mimetype": "text/x-python",
   "name": "python",
   "nbconvert_exporter": "python",
   "pygments_lexer": "ipython3",
   "version": "3.10.15"
  }
 },
 "nbformat": 4,
 "nbformat_minor": 2
}
